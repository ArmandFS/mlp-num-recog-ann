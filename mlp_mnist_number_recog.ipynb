{
 "cells": [
  {
   "attachments": {},
   "cell_type": "markdown",
   "metadata": {},
   "source": [
    "\n",
    "## Multilayer Perceptron (MLP) for Number Recognition with Error Back Propagation Algorithm\n",
    "##### A multilayer perceptron is a fully connected class of feedforward artificial neural network. The term MLP is used ambiguously, sometimes loosely to mean any feedforward ANN, sometimes strictly to refer to networks composed of multiple layers of perceptrons. Here we are testing it to recognize a binary dataset input of various shapes of numbers\n",
    "##### We are going to import various libraries such as numpy for multiplication, math, matplotlib for plotting the graphs\n",
    "##### as well as keras datasets for our dataset (using the mnist dataset).\n"
   ]
  },
  {
   "cell_type": "code",
   "execution_count": 1,
   "metadata": {},
   "outputs": [],
   "source": [
    "\n",
    "import numpy as np\n",
    "import math\n",
    "from keras.datasets import mnist\n",
    "from keras.utils import to_categorical\n",
    "import matplotlib.pyplot as plt\n"
   ]
  },
  {
   "attachments": {},
   "cell_type": "markdown",
   "metadata": {},
   "source": [
    "## Getting our database and printing our our dataset\n",
    "##### The MNIST database has a training set of 60,000 examples, and a test set of 10,000 examples. It is a subset of a larger set available from NIST. The digits have been size-normalized and centered in a fixed-size image.\n",
    "\n",
    "##### We start by getting the mnist data, and then splitting the output and input as x and y\n",
    "##### Num_data is used to determine which data we are going to train\n",
    "##### The set_printoption function determines the way floating point numbers, arrays and other NumPy objects are displayed.\n",
    "##### The keras to_categorical function is used to convert vectors into binary matrices.\n",
    "##### This as a whole is the preprocessing part. We can convert the inputted x into an array"
   ]
  },
  {
   "cell_type": "code",
   "execution_count": 2,
   "metadata": {},
   "outputs": [
    {
     "name": "stdout",
     "output_type": "stream",
     "text": [
      "[[  0   0   0   0   0   0   0   0   0   0   0   0   0   0   0   0   0   0   0   0   0   0   0   0   0   0   0   0]\n",
      " [  0   0   0   0   0   0   0   0   0   0   0   0   0   0   0   0   0   0   0   0   0   0   0   0   0   0   0   0]\n",
      " [  0   0   0   0   0   0   0   0   0   0   0   0   0   0   0   0   0   0   0   0   0   0   0   0   0   0   0   0]\n",
      " [  0   0   0   0   0   0   0   0   0   0   0   0   0   0   0   0   0   0   0   0   0   0   0   0   0   0   0   0]\n",
      " [  0   0   0   0   0   0   0   0   0   0   0   0   0   0   0  51 159 253 159  50   0   0   0   0   0   0   0   0]\n",
      " [  0   0   0   0   0   0   0   0   0   0   0   0   0   0  48 238 252 252 252 237   0   0   0   0   0   0   0   0]\n",
      " [  0   0   0   0   0   0   0   0   0   0   0   0   0  54 227 253 252 239 233 252  57   6   0   0   0   0   0   0]\n",
      " [  0   0   0   0   0   0   0   0   0   0   0  10  60 224 252 253 252 202  84 252 253 122   0   0   0   0   0   0]\n",
      " [  0   0   0   0   0   0   0   0   0   0   0 163 252 252 252 253 252 252  96 189 253 167   0   0   0   0   0   0]\n",
      " [  0   0   0   0   0   0   0   0   0   0  51 238 253 253 190 114 253 228  47  79 255 168   0   0   0   0   0   0]\n",
      " [  0   0   0   0   0   0   0   0   0  48 238 252 252 179  12  75 121  21   0   0 253 243  50   0   0   0   0   0]\n",
      " [  0   0   0   0   0   0   0   0  38 165 253 233 208  84   0   0   0   0   0   0 253 252 165   0   0   0   0   0]\n",
      " [  0   0   0   0   0   0   0   7 178 252 240  71  19  28   0   0   0   0   0   0 253 252 195   0   0   0   0   0]\n",
      " [  0   0   0   0   0   0   0  57 252 252  63   0   0   0   0   0   0   0   0   0 253 252 195   0   0   0   0   0]\n",
      " [  0   0   0   0   0   0   0 198 253 190   0   0   0   0   0   0   0   0   0   0 255 253 196   0   0   0   0   0]\n",
      " [  0   0   0   0   0   0  76 246 252 112   0   0   0   0   0   0   0   0   0   0 253 252 148   0   0   0   0   0]\n",
      " [  0   0   0   0   0   0  85 252 230  25   0   0   0   0   0   0   0   0   7 135 253 186  12   0   0   0   0   0]\n",
      " [  0   0   0   0   0   0  85 252 223   0   0   0   0   0   0   0   0   7 131 252 225  71   0   0   0   0   0   0]\n",
      " [  0   0   0   0   0   0  85 252 145   0   0   0   0   0   0   0  48 165 252 173   0   0   0   0   0   0   0   0]\n",
      " [  0   0   0   0   0   0  86 253 225   0   0   0   0   0   0 114 238 253 162   0   0   0   0   0   0   0   0   0]\n",
      " [  0   0   0   0   0   0  85 252 249 146  48  29  85 178 225 253 223 167  56   0   0   0   0   0   0   0   0   0]\n",
      " [  0   0   0   0   0   0  85 252 252 252 229 215 252 252 252 196 130   0   0   0   0   0   0   0   0   0   0   0]\n",
      " [  0   0   0   0   0   0  28 199 252 252 253 252 252 233 145   0   0   0   0   0   0   0   0   0   0   0   0   0]\n",
      " [  0   0   0   0   0   0   0  25 128 252 253 252 141  37   0   0   0   0   0   0   0   0   0   0   0   0   0   0]\n",
      " [  0   0   0   0   0   0   0   0   0   0   0   0   0   0   0   0   0   0   0   0   0   0   0   0   0   0   0   0]\n",
      " [  0   0   0   0   0   0   0   0   0   0   0   0   0   0   0   0   0   0   0   0   0   0   0   0   0   0   0   0]\n",
      " [  0   0   0   0   0   0   0   0   0   0   0   0   0   0   0   0   0   0   0   0   0   0   0   0   0   0   0   0]\n",
      " [  0   0   0   0   0   0   0   0   0   0   0   0   0   0   0   0   0   0   0   0   0   0   0   0   0   0   0   0]]\n",
      "[[0 0 0 0 0 0 0 0 0 0 0 0 0 0 0 0 0 0 0 0 0 0 0 0 0 0 0 0]\n",
      " [0 0 0 0 0 0 0 0 0 0 0 0 0 0 0 0 0 0 0 0 0 0 0 0 0 0 0 0]\n",
      " [0 0 0 0 0 0 0 0 0 0 0 0 0 0 0 0 0 0 0 0 0 0 0 0 0 0 0 0]\n",
      " [0 0 0 0 0 0 0 0 0 0 0 0 0 0 0 0 0 0 0 0 0 0 0 0 0 0 0 0]\n",
      " [0 0 0 0 0 0 0 0 0 0 0 0 0 0 0 1 1 1 1 1 0 0 0 0 0 0 0 0]\n",
      " [0 0 0 0 0 0 0 0 0 0 0 0 0 0 1 1 1 1 1 1 0 0 0 0 0 0 0 0]\n",
      " [0 0 0 0 0 0 0 0 0 0 0 0 0 1 1 1 1 1 1 1 1 1 0 0 0 0 0 0]\n",
      " [0 0 0 0 0 0 0 0 0 0 0 1 1 1 1 1 1 1 1 1 1 1 0 0 0 0 0 0]\n",
      " [0 0 0 0 0 0 0 0 0 0 0 1 1 1 1 1 1 1 1 1 1 1 0 0 0 0 0 0]\n",
      " [0 0 0 0 0 0 0 0 0 0 1 1 1 1 1 1 1 1 1 1 1 1 0 0 0 0 0 0]\n",
      " [0 0 0 0 0 0 0 0 0 1 1 1 1 1 1 1 1 1 0 0 1 1 1 0 0 0 0 0]\n",
      " [0 0 0 0 0 0 0 0 1 1 1 1 1 1 0 0 0 0 0 0 1 1 1 0 0 0 0 0]\n",
      " [0 0 0 0 0 0 0 1 1 1 1 1 1 1 0 0 0 0 0 0 1 1 1 0 0 0 0 0]\n",
      " [0 0 0 0 0 0 0 1 1 1 1 0 0 0 0 0 0 0 0 0 1 1 1 0 0 0 0 0]\n",
      " [0 0 0 0 0 0 0 1 1 1 0 0 0 0 0 0 0 0 0 0 1 1 1 0 0 0 0 0]\n",
      " [0 0 0 0 0 0 1 1 1 1 0 0 0 0 0 0 0 0 0 0 1 1 1 0 0 0 0 0]\n",
      " [0 0 0 0 0 0 1 1 1 1 0 0 0 0 0 0 0 0 1 1 1 1 1 0 0 0 0 0]\n",
      " [0 0 0 0 0 0 1 1 1 0 0 0 0 0 0 0 0 1 1 1 1 1 0 0 0 0 0 0]\n",
      " [0 0 0 0 0 0 1 1 1 0 0 0 0 0 0 0 1 1 1 1 0 0 0 0 0 0 0 0]\n",
      " [0 0 0 0 0 0 1 1 1 0 0 0 0 0 0 1 1 1 1 0 0 0 0 0 0 0 0 0]\n",
      " [0 0 0 0 0 0 1 1 1 1 1 1 1 1 1 1 1 1 1 0 0 0 0 0 0 0 0 0]\n",
      " [0 0 0 0 0 0 1 1 1 1 1 1 1 1 1 1 1 0 0 0 0 0 0 0 0 0 0 0]\n",
      " [0 0 0 0 0 0 1 1 1 1 1 1 1 1 1 0 0 0 0 0 0 0 0 0 0 0 0 0]\n",
      " [0 0 0 0 0 0 0 1 1 1 1 1 1 1 0 0 0 0 0 0 0 0 0 0 0 0 0 0]\n",
      " [0 0 0 0 0 0 0 0 0 0 0 0 0 0 0 0 0 0 0 0 0 0 0 0 0 0 0 0]\n",
      " [0 0 0 0 0 0 0 0 0 0 0 0 0 0 0 0 0 0 0 0 0 0 0 0 0 0 0 0]\n",
      " [0 0 0 0 0 0 0 0 0 0 0 0 0 0 0 0 0 0 0 0 0 0 0 0 0 0 0 0]\n",
      " [0 0 0 0 0 0 0 0 0 0 0 0 0 0 0 0 0 0 0 0 0 0 0 0 0 0 0 0]]\n",
      "[1. 0. 0. 0. 0. 0. 0. 0. 0. 0.]\n",
      "[0 0 0 0 0 0 0 0 0 0 0 0 0 0 0 0 0 0 0 0 0 0 0 0 0 0 0 0 0 0 0 0 0 0 0 0 0 0 0 0 0 0 0 0 0 0 0 0 0 0 0 0 0 0 0 0 0 0 0 0 0 0 0 0 0 0 0 0 0 0 0 0 0 0 0 0 0 0 0 0 0 0 0 0 0 0 0 0 0 0 0 0 0 0 0 0 0 0 0\n",
      " 0 0 0 0 0 0 0 0 0 0 0 0 0 0 0 0 0 0 0 0 0 0 0 0 0 0 0 0 1 1 1 1 1 0 0 0 0 0 0 0 0 0 0 0 0 0 0 0 0 0 0 0 0 0 0 1 1 1 1 1 1 0 0 0 0 0 0 0 0 0 0 0 0 0 0 0 0 0 0 0 0 0 1 1 1 1 1 1 1 1 1 0 0 0 0 0 0 0 0\n",
      " 0 0 0 0 0 0 0 0 0 1 1 1 1 1 1 1 1 1 1 1 0 0 0 0 0 0 0 0 0 0 0 0 0 0 0 0 0 1 1 1 1 1 1 1 1 1 1 1 0 0 0 0 0 0 0 0 0 0 0 0 0 0 0 0 1 1 1 1 1 1 1 1 1 1 1 1 0 0 0 0 0 0 0 0 0 0 0 0 0 0 0 1 1 1 1 1 1 1 1\n",
      " 1 0 0 1 1 1 0 0 0 0 0 0 0 0 0 0 0 0 0 1 1 1 1 1 1 0 0 0 0 0 0 1 1 1 0 0 0 0 0 0 0 0 0 0 0 0 1 1 1 1 1 1 1 0 0 0 0 0 0 1 1 1 0 0 0 0 0 0 0 0 0 0 0 0 1 1 1 1 0 0 0 0 0 0 0 0 0 1 1 1 0 0 0 0 0 0 0 0 0\n",
      " 0 0 0 1 1 1 0 0 0 0 0 0 0 0 0 0 1 1 1 0 0 0 0 0 0 0 0 0 0 0 1 1 1 1 0 0 0 0 0 0 0 0 0 0 1 1 1 0 0 0 0 0 0 0 0 0 0 0 1 1 1 1 0 0 0 0 0 0 0 0 1 1 1 1 1 0 0 0 0 0 0 0 0 0 0 0 1 1 1 0 0 0 0 0 0 0 0 1 1\n",
      " 1 1 1 0 0 0 0 0 0 0 0 0 0 0 0 1 1 1 0 0 0 0 0 0 0 1 1 1 1 0 0 0 0 0 0 0 0 0 0 0 0 0 0 1 1 1 0 0 0 0 0 0 1 1 1 1 0 0 0 0 0 0 0 0 0 0 0 0 0 0 0 1 1 1 1 1 1 1 1 1 1 1 1 1 0 0 0 0 0 0 0 0 0 0 0 0 0 0 0\n",
      " 1 1 1 1 1 1 1 1 1 1 1 0 0 0 0 0 0 0 0 0 0 0 0 0 0 0 0 0 1 1 1 1 1 1 1 1 1 0 0 0 0 0 0 0 0 0 0 0 0 0 0 0 0 0 0 0 0 1 1 1 1 1 1 1 0 0 0 0 0 0 0 0 0 0 0 0 0 0 0 0 0 0 0 0 0 0 0 0 0 0 0 0 0 0 0 0 0 0 0\n",
      " 0 0 0 0 0 0 0 0 0 0 0 0 0 0 0 0 0 0 0 0 0 0 0 0 0 0 0 0 0 0 0 0 0 0 0 0 0 0 0 0 0 0 0 0 0 0 0 0 0 0 0 0 0 0 0 0 0 0 0 0 0 0 0 0 0 0 0 0 0 0 0 0 0 0 0 0 0 0 0 0 0 0 0 0 0 0 0 0 0 0 0]\n"
     ]
    }
   ],
   "source": [
    "#Load the data, and split both x and y as training and testing data\n",
    "(train_X, train_y), (test_X, test_y) = mnist.load_data()\n",
    "\n",
    "#split data and categorize into the num_data variable\n",
    "num_data = 500\n",
    "train_X = train_X[:num_data]\n",
    "train_y = train_y[:num_data]\n",
    "\n",
    "np.set_printoptions(linewidth=200)\n",
    "print(np.array(train_X[1]))\n",
    "\n",
    "#Preprocessing\n",
    "X = np.array([[[1 if dd > 0 else 0 for dd in m] for m in x] for x in train_X])\n",
    "print(np.array(X[1]))\n",
    "\n",
    "y = to_categorical(train_y)\n",
    "print(y[1])\n",
    "\n",
    "X = np.array([x.flatten() for x in X])\n",
    "print(X[1])"
   ]
  },
  {
   "attachments": {},
   "cell_type": "markdown",
   "metadata": {},
   "source": [
    "## Creating the sigmoid activation function and initializing our weights, loss and accuracy, and starting the Feed Forward Process of the Neural Network\n",
    "##### We print out the current output as O (as our selected input)\n",
    "##### We declare x and y input and output variables\n",
    "##### We shape the num input and outputs\n",
    "##### The sigmoid function (activation function) acts as a normalizer for numerical values in the hidden values. It normalizes the values to be set inbetween 0 and 1. It is so that we do not have too large of a hidden neuron value. The sigmoid function corresponds to the input value. \n",
    "#####  Weights are the parameter within a neural network that transforms input data within the network's hidden layers. As the input enters the node, it gets multiplied by a weight value. \n",
    "##### There are weights in both the hidden and output layer.\n",
    "##### The Learning Rate (or u0) is a hyperparameter that controls how much to change the model in response to the estimated error each time the model weights are updated. \n",
    "##### The computation equation of the learning rate parameter is as follows:\n",
    "$ u(k) = u0/(1 + k/(tao)) $\n",
    "\n",
    "## Feedforward + Backprojection Algorithm \n",
    "#### After going through the 1st hidden layer, we use the sigmoid to normalize the values, and move on to the hidden output layer, with more or less, similiar process.\n",
    "#### The step after this is that We need the error/cost function. Using MSE (The Mean Square Error). This works by calculating the difference between each output and the corresponding label value, then squaring each difference , then summing the resulting values together, then dividing by the number of output neurons. \n",
    "#### The resulting value is the error.\n",
    "#### This process will repeat in a series of epochs. an Epoch is is how many cycles the machine learning model will train until desired accuracy and output"
   ]
  },
  {
   "cell_type": "code",
   "execution_count": 3,
   "metadata": {},
   "outputs": [
    {
     "name": "stdout",
     "output_type": "stream",
     "text": [
      "epoch :  0  | error: [0.07263021]  | accuracy :  0.19199999999999995\n",
      "epoch :  1  | error: [0.04620254]  | accuracy :  0.492\n",
      "epoch :  2  | error: [0.03768787]  | accuracy :  0.6\n",
      "epoch :  3  | error: [0.02910927]  | accuracy :  0.704\n",
      "epoch :  4  | error: [0.02522862]  | accuracy :  0.744\n",
      "epoch :  5  | error: [0.02209317]  | accuracy :  0.782\n",
      "epoch :  6  | error: [0.01753697]  | accuracy :  0.836\n",
      "epoch :  7  | error: [0.01623466]  | accuracy :  0.844\n",
      "epoch :  8  | error: [0.01223603]  | accuracy :  0.896\n",
      "epoch :  9  | error: [0.01251771]  | accuracy :  0.868\n",
      "epoch :  10  | error: [0.01004172]  | accuracy :  0.916\n",
      "epoch :  11  | error: [0.0093664]  | accuracy :  0.918\n",
      "epoch :  12  | error: [0.00546828]  | accuracy :  0.95\n",
      "epoch :  13  | error: [0.00524039]  | accuracy :  0.962\n",
      "epoch :  14  | error: [0.00528703]  | accuracy :  0.946\n",
      "epoch :  15  | error: [0.00412759]  | accuracy :  0.964\n",
      "epoch :  16  | error: [0.00312688]  | accuracy :  0.98\n",
      "epoch :  17  | error: [0.00286909]  | accuracy :  0.982\n",
      "epoch :  18  | error: [0.00256166]  | accuracy :  0.982\n",
      "epoch :  19  | error: [0.00235396]  | accuracy :  0.984\n",
      "epoch :  20  | error: [0.00222946]  | accuracy :  0.986\n",
      "epoch :  21  | error: [0.0020528]  | accuracy :  0.986\n",
      "epoch :  22  | error: [0.0019067]  | accuracy :  0.986\n",
      "epoch :  23  | error: [0.00177234]  | accuracy :  0.986\n",
      "epoch :  24  | error: [0.00178425]  | accuracy :  0.986\n",
      "epoch :  25  | error: [0.00167895]  | accuracy :  0.986\n",
      "epoch :  26  | error: [0.00159933]  | accuracy :  0.986\n",
      "epoch :  27  | error: [0.00151591]  | accuracy :  0.986\n",
      "epoch :  28  | error: [0.00140121]  | accuracy :  0.988\n",
      "epoch :  29  | error: [0.0013829]  | accuracy :  0.988\n",
      "epoch :  30  | error: [0.00128369]  | accuracy :  0.99\n",
      "epoch :  31  | error: [0.00119356]  | accuracy :  0.992\n",
      "epoch :  32  | error: [0.00113548]  | accuracy :  0.992\n",
      "epoch :  33  | error: [0.00104677]  | accuracy :  0.994\n",
      "epoch :  34  | error: [0.00098481]  | accuracy :  0.996\n",
      "epoch :  35  | error: [0.00095718]  | accuracy :  0.996\n",
      "epoch :  36  | error: [0.00086937]  | accuracy :  0.996\n",
      "epoch :  37  | error: [0.00081727]  | accuracy :  0.996\n",
      "epoch :  38  | error: [0.00079126]  | accuracy :  0.996\n",
      "epoch :  39  | error: [0.00073145]  | accuracy :  0.996\n",
      "epoch :  40  | error: [0.00069422]  | accuracy :  0.996\n",
      "epoch :  41  | error: [0.00061947]  | accuracy :  0.998\n",
      "epoch :  42  | error: [0.00058812]  | accuracy :  0.998\n",
      "epoch :  43  | error: [0.0005541]  | accuracy :  0.998\n",
      "epoch :  44  | error: [0.0005532]  | accuracy :  0.998\n",
      "epoch :  45  | error: [0.00050843]  | accuracy :  0.998\n",
      "epoch :  46  | error: [0.00046746]  | accuracy :  0.998\n",
      "epoch :  47  | error: [0.00044787]  | accuracy :  0.998\n",
      "epoch :  48  | error: [0.00043002]  | accuracy :  0.998\n",
      "epoch :  49  | error: [0.00040607]  | accuracy :  1.0\n",
      "epoch :  50  | error: [0.00040027]  | accuracy :  1.0\n",
      "epoch :  51  | error: [0.00037597]  | accuracy :  1.0\n",
      "epoch :  52  | error: [0.00037377]  | accuracy :  1.0\n",
      "epoch :  53  | error: [0.00035051]  | accuracy :  1.0\n",
      "epoch :  54  | error: [0.00034735]  | accuracy :  1.0\n",
      "epoch :  55  | error: [0.00032602]  | accuracy :  1.0\n",
      "epoch :  56  | error: [0.00032438]  | accuracy :  1.0\n",
      "epoch :  57  | error: [0.00030155]  | accuracy :  1.0\n",
      "epoch :  58  | error: [0.0002949]  | accuracy :  1.0\n",
      "epoch :  59  | error: [0.00028591]  | accuracy :  1.0\n",
      "epoch :  60  | error: [0.00027834]  | accuracy :  1.0\n",
      "epoch :  61  | error: [0.00027385]  | accuracy :  1.0\n",
      "epoch :  62  | error: [0.00026921]  | accuracy :  1.0\n",
      "epoch :  63  | error: [0.00025943]  | accuracy :  1.0\n",
      "epoch :  64  | error: [0.00025243]  | accuracy :  1.0\n",
      "epoch :  65  | error: [0.00024551]  | accuracy :  1.0\n",
      "epoch :  66  | error: [0.00024531]  | accuracy :  1.0\n",
      "epoch :  67  | error: [0.00023924]  | accuracy :  1.0\n",
      "epoch :  68  | error: [0.00023069]  | accuracy :  1.0\n",
      "epoch :  69  | error: [0.00022421]  | accuracy :  1.0\n",
      "epoch :  70  | error: [0.00022187]  | accuracy :  1.0\n",
      "epoch :  71  | error: [0.00021136]  | accuracy :  1.0\n",
      "epoch :  72  | error: [0.00021032]  | accuracy :  1.0\n",
      "epoch :  73  | error: [0.00020476]  | accuracy :  1.0\n",
      "epoch :  74  | error: [0.00020486]  | accuracy :  1.0\n",
      "epoch :  75  | error: [0.00019819]  | accuracy :  1.0\n",
      "epoch :  76  | error: [0.00019195]  | accuracy :  1.0\n",
      "epoch :  77  | error: [0.00018305]  | accuracy :  1.0\n",
      "epoch :  78  | error: [0.00017974]  | accuracy :  1.0\n",
      "epoch :  79  | error: [0.00016945]  | accuracy :  1.0\n"
     ]
    }
   ],
   "source": [
    "#Multilayer perceptron\n",
    "input = X\n",
    "target = y\n",
    "\n",
    "#Configuration\n",
    "num_input = input.shape[1]\n",
    "num_hidden = 30\n",
    "num_output = target.shape[1]\n",
    "\n",
    "#The sigmoid function for the activation layer after initializing hidden layer values\n",
    "def sigmoid(x):\n",
    "    return 1/(1+math.exp(-x))\n",
    "sig = np.vectorize(sigmoid)\n",
    "\n",
    "#Defining the weight and bias values that will be used later\n",
    "#B and W for hidden layer\n",
    "w_hidden = np.random.uniform(low=-1, high=1, size=(num_input, num_hidden))\n",
    "b_hidden = np.random.uniform(low=-1, high=1, size=(num_hidden))\n",
    "\n",
    "#B and W for output layer\n",
    "w_output = np.random.uniform(low=-1, high=1, size=(num_hidden, num_output))\n",
    "b_output = np.random.uniform(low=-1, high=1, size=(num_output))\n",
    "\n",
    "#Initialize loss and accuracy values in empty list\n",
    "loss_value = []\n",
    "acc_value = []\n",
    "\n",
    "#Define the learning rate and how many times of epoch\n",
    "lr = 0.5\n",
    "epochs = 80 #This is how many times the neural network trains and goes through forward and back propagation\n",
    "\n",
    "#Feed Forward\n",
    "for epoch in range(epochs):\n",
    "    MSE = 0 #MSE will be used for \n",
    "    new_target = np.zeros(target.shape)  #deppend on size of target  output\n",
    "    \n",
    "    # Loop the row data\n",
    "    for index, inp in enumerate(input):\n",
    "        \n",
    "        # FEEDFORWARD\n",
    "        # hiiden layer\n",
    "        o_hidden = np.matmul(input[index], w_hidden) + b_hidden #Use the Matrix Multiplication method using no.matmul\n",
    "        o_hidden = sig(o_hidden) # Putting the Feedforward function into the sigmoid\n",
    "        \n",
    "        # processing the output layer\n",
    "        o_output = np.matmul(o_hidden, w_output) + b_output \n",
    "        o_output = sig(o_output) \n",
    "        \n",
    "        #Error processing\n",
    "        error = target[index] - o_output\n",
    "        MSE = MSE + (np.sum((error**2)) / error.shape)\n",
    "        new_target[index] = o_output.round()\n",
    "        error_hidden = np.matmul(error, w_output.T)\n",
    "        \n",
    "        #BACKPROPAGATION Process\n",
    "        #output layer\n",
    "        #o_hidden[np.newaxis].T does matrix transposing\n",
    "        w_output = w_output +  (lr * ((error * o_output * (1 - o_output)) * o_hidden[np.newaxis].T )) \n",
    "        b_output = b_output + (lr * ((error * o_output * (1 - o_output))))\n",
    "        \n",
    "        #hidden layer\n",
    "        w_hidden = w_hidden + (lr * (error_hidden * o_hidden * (1 - o_hidden) * input[index][np.newaxis].T))\n",
    "        b_hidden = b_hidden + (lr * (error_hidden * o_hidden * (1 - o_hidden)))\n",
    "    \n",
    "    #calculate MSE and Delta\n",
    "    MSE = (MSE / input.shape[0])\n",
    "    delta = np.absolute(target - new_target)\n",
    "    accuracy = 1 - np.average([np.max(m) for m in delta])\n",
    "    #append acc and loss values into empty lists\n",
    "    acc_value.append(accuracy)\n",
    "    loss_value.append(MSE)\n",
    "    print(\"epoch : \",epoch,\" | error:\",MSE, \" | accuracy : \", accuracy )"
   ]
  },
  {
   "attachments": {},
   "cell_type": "markdown",
   "metadata": {},
   "source": [
    "#### Back propagation works by propagating the error from the end back to the start. We need to calculate the delta to each neuron.  We can just write o - l. Delta output is just the difference between the output and the label.  In the next step, the delta values are used in a matrix multiplication with the hidden layer outputs to get an update value to each weight connecting both layers. We want to adjust the weights carefully. \n",
    "#### After running the training process, we plot the accuracy and loss graph to show how by each epoch, the model slowly learns and accuracy of the pattern recognition gets more accurate"
   ]
  },
  {
   "cell_type": "code",
   "execution_count": 4,
   "metadata": {},
   "outputs": [
    {
     "data": {
      "text/plain": [
       "<function matplotlib.pyplot.show(close=None, block=None)>"
      ]
     },
     "execution_count": 4,
     "metadata": {},
     "output_type": "execute_result"
    },
    {
     "data": {
      "image/png": "[encoded data removed]",
      "text/plain": [
       "<Figure size 432x288 with 1 Axes>"
      ]
     },
     "metadata": {
      "needs_background": "light"
     },
     "output_type": "display_data"
    },
    {
     "data": {
      "image/png": "[encoded data removed]",
      "text/plain": [
       "<Figure size 432x288 with 1 Axes>"
      ]
     },
     "metadata": {
      "needs_background": "light"
     },
     "output_type": "display_data"
    }
   ],
   "source": [
    "\n",
    "#Output the loss value\n",
    "plot1 = plt.figure(1)\n",
    "plt.plot(loss_value)\n",
    "plt.show\n",
    "\n",
    "#output the accuracy value\n",
    "plot2 = plt.figure(2)\n",
    "plt.plot(acc_value)\n",
    "plt.show"
   ]
  },
  {
   "attachments": {},
   "cell_type": "markdown",
   "metadata": {},
   "source": [
    "## The Testing Phase\n",
    "##### After training the model, we test the same model to get our new number recognition. and Output the results of the testing process. The process and output is as follows."
   ]
  },
  {
   "cell_type": "code",
   "execution_count": 5,
   "metadata": {},
   "outputs": [],
   "source": [
    "new_target_test =  np.zeros(target.shape)\n",
    "\n",
    "#Feedforward value\n",
    "for index, inp in enumerate(input):\n",
    "  #Hidden layer\n",
    "  o_hidden = np.matmul(input[index], w_hidden) + b_hidden \n",
    "  o_hidden = sig(o_hidden)\n",
    "\n",
    "  #Processing output layer\n",
    "  o_output = np.matmul(o_hidden, w_output) + b_output \n",
    "  o_output = sig(o_output) \n",
    "\n",
    "  new_target_test[index] = o_output.round()\n"
   ]
  },
  {
   "cell_type": "code",
   "execution_count": 6,
   "metadata": {},
   "outputs": [
    {
     "name": "stdout",
     "output_type": "stream",
     "text": [
      "[[0 0 0 0 0 0 0 0 0 0 0 0 0 0 0 0 0 0 0 0 0 0 0 0 0 0 0 0]\n",
      " [0 0 0 0 0 0 0 0 0 0 0 0 0 0 0 0 0 0 0 0 0 0 0 0 0 0 0 0]\n",
      " [0 0 0 0 0 0 0 0 0 0 0 0 0 0 0 0 0 0 0 0 0 0 0 0 0 0 0 0]\n",
      " [0 0 0 0 0 0 0 0 0 0 0 0 0 0 0 0 0 0 0 0 0 0 0 0 0 0 0 0]\n",
      " [0 0 0 0 0 0 0 0 0 0 0 0 0 0 1 1 1 1 1 0 0 0 0 0 0 0 0 0]\n",
      " [0 0 0 0 0 0 0 0 0 0 0 0 1 1 1 1 1 1 1 0 0 0 0 0 0 0 0 0]\n",
      " [0 0 0 0 0 0 0 0 0 0 0 1 1 1 1 1 1 1 1 1 1 0 0 0 0 0 0 0]\n",
      " [0 0 0 0 0 0 0 0 0 0 0 1 1 1 1 1 1 1 1 1 1 0 0 0 0 0 0 0]\n",
      " [0 0 0 0 0 0 0 0 0 0 1 1 1 1 1 1 1 1 1 1 1 0 0 0 0 0 0 0]\n",
      " [0 0 0 0 0 0 0 0 0 1 1 1 1 1 1 1 1 1 1 1 1 0 0 0 0 0 0 0]\n",
      " [0 0 0 0 0 0 0 0 0 1 1 1 1 1 1 0 1 1 1 1 1 0 0 0 0 0 0 0]\n",
      " [0 0 0 0 0 0 0 0 0 1 1 1 1 1 1 0 1 1 1 1 1 0 0 0 0 0 0 0]\n",
      " [0 0 0 0 0 0 0 0 1 1 1 1 1 1 0 0 0 1 1 1 1 0 0 0 0 0 0 0]\n",
      " [0 0 0 0 0 0 0 1 1 1 1 1 1 1 0 0 0 1 1 1 1 0 0 0 0 0 0 0]\n",
      " [0 0 0 0 0 0 0 1 1 1 1 1 0 0 0 0 0 0 1 1 1 0 0 0 0 0 0 0]\n",
      " [0 0 0 0 0 0 0 1 1 1 1 1 0 0 0 0 0 0 1 1 1 0 0 0 0 0 0 0]\n",
      " [0 0 0 0 0 0 0 1 1 1 1 1 0 0 0 0 0 0 1 1 1 0 0 0 0 0 0 0]\n",
      " [0 0 0 0 0 0 0 1 1 1 1 1 0 0 0 0 0 1 1 1 1 0 0 0 0 0 0 0]\n",
      " [0 0 0 0 0 0 0 1 1 1 1 0 0 0 0 0 1 1 1 1 1 0 0 0 0 0 0 0]\n",
      " [0 0 0 0 0 0 0 1 1 1 1 0 0 0 1 1 1 1 1 1 0 0 0 0 0 0 0 0]\n",
      " [0 0 0 0 0 0 0 1 1 1 1 1 1 1 1 1 1 1 1 0 0 0 0 0 0 0 0 0]\n",
      " [0 0 0 0 0 0 0 1 1 1 1 1 1 1 1 1 1 1 1 0 0 0 0 0 0 0 0 0]\n",
      " [0 0 0 0 0 0 0 1 1 1 1 1 1 1 1 1 1 1 1 0 0 0 0 0 0 0 0 0]\n",
      " [0 0 0 0 0 0 0 1 1 1 1 1 1 1 1 1 1 0 0 0 0 0 0 0 0 0 0 0]\n",
      " [0 0 0 0 0 0 0 0 0 0 0 0 0 0 0 0 0 0 0 0 0 0 0 0 0 0 0 0]\n",
      " [0 0 0 0 0 0 0 0 0 0 0 0 0 0 0 0 0 0 0 0 0 0 0 0 0 0 0 0]\n",
      " [0 0 0 0 0 0 0 0 0 0 0 0 0 0 0 0 0 0 0 0 0 0 0 0 0 0 0 0]\n",
      " [0 0 0 0 0 0 0 0 0 0 0 0 0 0 0 0 0 0 0 0 0 0 0 0 0 0 0 0]]\n",
      "test_target :  [1. 0. 0. 0. 0. 0. 0. 0. 0. 0.]\n",
      "row output learning / predicted text:  0\n",
      "expected image: \n"
     ]
    },
    {
     "data": {
      "image/png": "[encoded data removed]",
      "text/plain": [
       "<Figure size 720x720 with 1 Axes>"
      ]
     },
     "metadata": {
      "needs_background": "light"
     },
     "output_type": "display_data"
    }
   ],
   "source": [
    "#Testing\n",
    "\n",
    "#Which image to train:\n",
    "index_image_test = 95\n",
    "\n",
    "#Reshape output into shape of input matrix\n",
    "reshape_input = input.reshape(num_data,28,28)\n",
    "print(reshape_input[index_image_test])\n",
    "\n",
    "#Testing\n",
    "test_target = new_target_test[index_image_test]\n",
    "print(\"test_target : \", test_target)\n",
    "\n",
    "max_index_row = np.argmax(test_target)\n",
    "print(\"row output learning / predicted text: \", max_index_row)\n",
    "\n",
    "print(\"expected image: \")\n",
    "plt.figure(figsize=(10,10))\n",
    "plt.imshow(reshape_input[index_image_test], cmap=plt.get_cmap('gray'))\n",
    "plt.show()"
   ]
  }
 ],
 "metadata": {
  "kernelspec": {
   "display_name": "Python 3",
   "language": "python",
   "name": "python3"
  },
  "language_info": {
   "codemirror_mode": {
    "name": "ipython",
    "version": 3
   },
   "file_extension": ".py",
   "mimetype": "text/x-python",
   "name": "python",
   "nbconvert_exporter": "python",
   "pygments_lexer": "ipython3",
   "version": "3.9.1"
  },
  "orig_nbformat": 4
 },
 "nbformat": 4,
 "nbformat_minor": 2
}
